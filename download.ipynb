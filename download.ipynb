{
 "cells": [
  {
   "cell_type": "code",
   "execution_count": 1,
   "metadata": {
    "collapsed": true
   },
   "outputs": [
    {
     "name": "stdout",
     "output_type": "stream",
     "text": [
      "Requirement already satisfied: gdown in /home/jack/anaconda3/envs/pytorch/lib/python3.7/site-packages (3.8.1)\r\n",
      "Requirement already satisfied: requests in /home/jack/anaconda3/envs/pytorch/lib/python3.7/site-packages (from gdown) (2.21.0)\r\n",
      "Requirement already satisfied: filelock in /home/jack/anaconda3/envs/pytorch/lib/python3.7/site-packages (from gdown) (3.0.10)\r\n",
      "Requirement already satisfied: six in /home/jack/anaconda3/envs/pytorch/lib/python3.7/site-packages (from gdown) (1.12.0)\r\n",
      "Requirement already satisfied: tqdm in /home/jack/anaconda3/envs/pytorch/lib/python3.7/site-packages (from gdown) (4.31.1)\r\n",
      "Requirement already satisfied: certifi>=2017.4.17 in /home/jack/anaconda3/envs/pytorch/lib/python3.7/site-packages (from requests->gdown) (2019.3.9)\r\n",
      "Requirement already satisfied: urllib3<1.25,>=1.21.1 in /home/jack/anaconda3/envs/pytorch/lib/python3.7/site-packages (from requests->gdown) (1.24.2)\r\n",
      "Requirement already satisfied: chardet<3.1.0,>=3.0.2 in /home/jack/anaconda3/envs/pytorch/lib/python3.7/site-packages (from requests->gdown) (3.0.4)\r\n",
      "Requirement already satisfied: idna<2.9,>=2.5 in /home/jack/anaconda3/envs/pytorch/lib/python3.7/site-packages (from requests->gdown) (2.8)\r\n"
     ]
    }
   ],
   "source": [
    "!pip install gdown"
   ]
  },
  {
   "cell_type": "code",
   "execution_count": 7,
   "metadata": {},
   "outputs": [],
   "source": [
    "import os\n",
    "from subprocess import call"
   ]
  },
  {
   "cell_type": "code",
   "execution_count": 8,
   "metadata": {},
   "outputs": [],
   "source": [
    "def mkdir(path):\n",
    "    if not os.path.exists(path):\n",
    "        os.mkdir(path)\n",
    "    else:\n",
    "        print('Directory already exists')"
   ]
  },
  {
   "cell_type": "code",
   "execution_count": 9,
   "metadata": {},
   "outputs": [
    {
     "name": "stdout",
     "output_type": "stream",
     "text": [
      "Directory already exists\n"
     ]
    }
   ],
   "source": [
    "# Dataset links\n",
    "celeba = 'https://drive.google.com/open?id=0B7EVK8r0v71pZjFTYXZWM3FlRnM'\n",
    "fifaface = 'https://drive.google.com/open?id=1alENMybCBgqRG9QBl6XyqA4ZEDYEP2f0'\n",
    "fifaface_flat = 'https://drive.google.com/open?id=1-sL-zWya9qL2URrWgEiDyopOsSuDE6NB'\n",
    "\n",
    "DATA_FOLDER = './data'\n",
    "mkdir(DATA_FOLDER)"
   ]
  },
  {
   "cell_type": "code",
   "execution_count": 10,
   "metadata": {},
   "outputs": [],
   "source": [
    "def download_from_google_drive(shareable_link, path, save_as):\n",
    "    file_id = shareable_link.split(\"id=\")[1]\n",
    "    link = 'https://drive.google.com/uc?id=' + file_id\n",
    "    \n",
    "    print(\"Downloading...\")\n",
    "    call(['gdown', link])\n",
    "    print(\"Downloading done.\\n\")"
   ]
  },
  {
   "cell_type": "code",
   "execution_count": 11,
   "metadata": {},
   "outputs": [],
   "source": [
    "def unzip(filename):\n",
    "  print('Unzipping', filename+'.zip','...')\n",
    "  call(['unzip','-nq', filename+'.zip'])\n",
    "  print('Unzipped.')\n",
    "  \n",
    "  print('Moving', filename,'to', DATA_FOLDER)\n",
    "  call(['mv',filename+'/',DATA_FOLDER+'/'])"
   ]
  },
  {
   "cell_type": "code",
   "execution_count": 12,
   "metadata": {
    "collapsed": true
   },
   "outputs": [
    {
     "name": "stdout",
     "output_type": "stream",
     "text": [
      "Downloading...\n",
      "Downloading done.\n",
      "\n"
     ]
    }
   ],
   "source": [
    "download_from_google_drive(celeba, DATA_FOLDER, 'celeba')"
   ]
  },
  {
   "cell_type": "code",
   "execution_count": 13,
   "metadata": {
    "collapsed": true
   },
   "outputs": [
    {
     "name": "stdout",
     "output_type": "stream",
     "text": [
      "Unzipping img_align_celeba.zip ...\n",
      "Unzipped.\n",
      "Moving img_align_celeba to ./data\n"
     ]
    }
   ],
   "source": [
    "unzip('img_align_celeba')"
   ]
  }
 ],
 "metadata": {
  "kernelspec": {
   "display_name": "Python 3",
   "language": "python",
   "name": "python3"
  },
  "language_info": {
   "codemirror_mode": {
    "name": "ipython",
    "version": 3
   },
   "file_extension": ".py",
   "mimetype": "text/x-python",
   "name": "python",
   "nbconvert_exporter": "python",
   "pygments_lexer": "ipython3",
   "version": "3.7.2"
  }
 },
 "nbformat": 4,
 "nbformat_minor": 2
}
